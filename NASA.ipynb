{
  "nbformat": 4,
  "nbformat_minor": 0,
  "metadata": {
    "colab": {
      "name": "NASA.ipynb",
      "provenance": [],
      "collapsed_sections": [],
      "include_colab_link": true
    },
    "kernelspec": {
      "name": "python3",
      "display_name": "Python 3"
    },
    "widgets": {
      "application/vnd.jupyter.widget-state+json": {
        "44680c37de334f04ba1521c51d23f63c": {
          "model_module": "@jupyter-widgets/controls",
          "model_name": "DropdownModel",
          "state": {
            "_options_labels": [
              "Anantapur",
              "Chittoor",
              "East Godavari",
              "Guntur",
              "Krishna",
              "Kurnool",
              "Prakasam",
              "S.P.S. Nellore",
              "Srikakulam",
              "Visakhapatnam",
              "Vizianagaram",
              "West Godavari",
              "Anjaw",
              "Changlang",
              "East Kameng",
              "East Siang",
              "Kurung Kumey",
              "Lohit",
              "Longding",
              "Lower Dibang Valley",
              "Lower Subansiri",
              "Namsai",
              "Papum Pare",
              "Shi Yomi",
              "Siang",
              "Tawang",
              "Tirap",
              "Upper Dibang Valley",
              "Upper Siang",
              "Upper Subansiri",
              "West Kameng",
              "West Siang",
              "Baksa",
              "Barpeta",
              "Bongaigaon",
              "Cachar",
              "Chirang",
              "Darrang",
              "Dhemaji",
              "Dhubri",
              "Dibrugarh",
              "Dima Hasao",
              "Goalpara",
              "Golaghat",
              "Hailakandi",
              "Jorhat",
              "Kamrup",
              "Kamrup Metropolitan",
              "Karbi Anglong",
              "Karimganj",
              "Kokrajhar",
              "Lakhimpur",
              "Morigaon",
              "Nagaon",
              "Nalbari",
              "Sivasagar",
              "Sonitpur",
              "Tinsukia",
              "Udalguri",
              "Araria",
              "Arwal",
              "Aurangabad",
              "Banka",
              "Begusarai",
              "Bhagalpur",
              "Bhojpur",
              "Buxar",
              "Darbhanga",
              "East Champaran",
              "Gaya",
              "Gopalganj",
              "Jamui",
              "Jehanabad",
              "Kaimur",
              "Katihar",
              "Khagaria",
              "Kishanganj",
              "Lakhisarai",
              "Madhepura",
              "Madhubani",
              "Munger",
              "Muzaffarpur",
              "Nalanda",
              "Nawada",
              "Patna",
              "Purnia",
              "Rohtas",
              "Saharsa",
              "Samastipur",
              "Saran",
              "Sheikhpura",
              "Sheohar",
              "Sitamarhi",
              "Siwan",
              "Supaul",
              "Vaishali",
              "West Champaran",
              "Balod",
              "Baloda Bazar",
              "Balrampur",
              "Bastar",
              "Bijapur",
              "Bilaspur",
              "Dhamtari",
              "Durg",
              "Gariaband",
              "Janjgir Champa",
              "Jashpur",
              "Kabeerdham",
              "Kondagaon",
              "Korba",
              "Koriya",
              "Mahasamund",
              "Mungeli",
              "Narayanpur",
              "Raigarh",
              "Raipur",
              "Rajnandgaon",
              "Sukma",
              "Surajpur",
              "Surguja",
              "North Goa",
              "South Goa",
              "Ahmedabad",
              "Amreli",
              "Anand",
              "Aravalli",
              "Banaskantha",
              "Bharuch",
              "Bhavnagar",
              "Botad",
              "Dahod",
              "Dang",
              "Devbhumi Dwarka",
              "Gandhinagar",
              "Gir Somnath",
              "Jamnagar",
              "Junagadh",
              "Kheda",
              "Kutch",
              "Mahisagar",
              "Mehsana",
              "Morbi",
              "Narmada",
              "Navsari",
              "Panchmahal",
              "Patan",
              "Porbandar",
              "Rajkot",
              "Sabarkantha",
              "Surat",
              "Surendranagar",
              "Tapi",
              "Vadodara",
              "Valsad",
              "Ambala",
              "Bhiwani",
              "Charkhi Dadri",
              "Faridabad",
              "Fatehabad",
              "Hisar",
              "Jhajjar",
              "Jind",
              "Kaithal",
              "Karnal",
              "Kurukshetra",
              "Mahendragarh",
              "Nuh",
              "Palwal",
              "Panchkula",
              "Panipat",
              "Rewari",
              "Rohtak",
              "Sirsa",
              "Sonipat",
              "Yamunanagar",
              "Bilaspur",
              "Chamba",
              "Hamirpur",
              "Kangra",
              "Kinnaur",
              "Kullu",
              "Lahaul and Spiti",
              "Mandi",
              "Shimla",
              "Sirmaur",
              "Solan",
              "Una",
              "Bokaro",
              "Chatra",
              "Deoghar",
              "Dhanbad",
              "Dumka",
              "East Singhbhum",
              "Garhwa",
              "Giridih",
              "Godda",
              "Gumla",
              "Hazaribagh",
              "Jamtara",
              "Khunti",
              "Koderma",
              "Latehar",
              "Lohardaga",
              "Pakur",
              "Palamu",
              "Ramgarh",
              "Ranchi",
              "Sahibganj",
              "Simdega",
              "West Singhbhum",
              "Bagalkote",
              "Ballari",
              "Bengaluru Rural",
              "Bengaluru Urban",
              "Bidar",
              "Chamarajanagara",
              "Chikkaballapura",
              "Chikkamagaluru",
              "Chitradurga",
              "Dakshina Kannada",
              "Davanagere",
              "Dharwad",
              "Gadag",
              "Hassan",
              "Haveri",
              "Kodagu",
              "Kolar",
              "Koppal",
              "Mandya",
              "Mysuru",
              "Raichur",
              "Ramanagara",
              "Shivamogga",
              "Tumakuru",
              "Udupi",
              "Uttara Kannada",
              "Vijayapura",
              "Yadgir",
              "Alappuzha",
              "Ernakulam",
              "Idukki",
              "Kannur",
              "Kasaragod",
              "Kollam",
              "Kottayam",
              "Kozhikode",
              "Malappuram",
              "Palakkad",
              "Pathanamthitta",
              "Thrissur",
              "Thiruvananthapuram",
              "Wayanad",
              "Alirajpur",
              "Anuppur",
              "Ashoknagar",
              "Balaghat",
              "Barwani",
              "Betul",
              "Bhind",
              "Bhopal",
              "Burhanpur",
              "Chhatarpur",
              "Chhindwara",
              "Damoh",
              "Datia",
              "Dewas",
              "Dhar",
              "Dindori",
              "Guna",
              "Gwalior",
              "Harda",
              "Hoshangabad",
              "Indore",
              "Jabalpur",
              "Jhabua",
              "Katni",
              "Khandwa",
              "Khargone",
              "Mandla",
              "Mandsaur",
              "Morena",
              "Narsinghpur",
              "Neemuch",
              "Panna",
              "Raisen",
              "Rajgarh",
              "Ratlam",
              "Rewa",
              "Sagar",
              "Satna",
              "Sehore",
              "Seoni",
              "Shahdol",
              "Shajapur",
              "Sheopur",
              "Shivpuri",
              "Sidhi",
              "Singrauli",
              "Tikamgarh",
              "Ujjain",
              "Umaria",
              "Vidisha",
              "Ahmednagar",
              "Akola",
              "Amravati",
              "Aurangabad",
              "Beed",
              "Bhandara",
              "Buldhana",
              "Chandrapur",
              "Dhule",
              "Gadchiroli",
              "Gondia",
              "Hingoli",
              "Jalgaon",
              "Jalna",
              "Kolhapur",
              "Latur",
              "Mumbai",
              "Mumbai Suburban",
              "Nanded",
              "Nandurbar",
              "Nagpur",
              "Nashik",
              "Osmanabad",
              "Palghar",
              "Parbhani",
              "Pune",
              "Raigad",
              "Ratnagiri",
              "Sangli",
              "Satara",
              "Sindhudurg",
              "Solapur",
              "Thane",
              "Wardha",
              "Washim",
              "Yavatmal",
              "Bishnupur",
              "Chandel",
              "Churachandpur",
              "Imphal East",
              "Imphal West",
              "Jiribam",
              "Kamjong",
              "Pherzawl",
              "Senapati",
              "Tamenglong",
              "Thoubal",
              "Ukhrul",
              "East Garo Hills",
              "East Khasi Hills",
              "East Jaintia Hills",
              "North Garo Hills",
              "Ribhoi",
              "South Garo Hills",
              "South West Garo Hills",
              "South West Khasi Hills",
              "West Jaintia Hills",
              "West Garo Hills",
              "West Khasi Hills",
              "Aizawl",
              "Champhai",
              "Kolasib",
              "Lawngtlai",
              "Lunglei",
              "Mamit",
              "Saiha",
              "Serchhip",
              "Dimapur",
              "Kiphire",
              "Kohima",
              "Longleng",
              "Mokokchung",
              "Mon",
              "Peren",
              "Phek",
              "Tuensang",
              "Wokha",
              "Zunheboto",
              "Angul",
              "Boudh",
              "Bhadrak",
              "Balangir",
              "Bargarh",
              "Balasore",
              "Cuttack",
              "Dhenkanal",
              "Ganjam",
              "Gajapati",
              "Jharsuguda",
              "Jajpur",
              "Jagatsinghpur",
              "Khordha",
              "Kendujhar",
              "Kalahandi",
              "Kandhamal",
              "Koraput",
              "Kendrapara",
              "Malkangiri",
              "Mayurbhanj",
              "Nabarangapur",
              "Nuapada",
              "Nayagarh",
              "Puri",
              "Rayagada",
              "Sambalpur",
              "Subarnapur",
              "Sundargarh",
              "Amritsar",
              "Barnala",
              "Bathinda",
              "Faridkot",
              "Fatehgarh Sahib",
              "Fazilka",
              "Gurdaspur",
              "Hoshiarpur",
              "Jalandhar",
              "Kapurthala",
              "Ludhiana",
              "Mansa",
              "Moga",
              "Sri Muktsar Sahib",
              "Pathankot",
              "Patiala",
              "Rupnagar",
              "S.A.S. Nagar",
              "Sangrur",
              "Shahid Bhagat Singh Nagar",
              "Tarn Taran",
              "Ajmer",
              "Alwar",
              "Bikaner",
              "Barmer",
              "Banswara",
              "Bharatpur",
              "Baran",
              "Bundi",
              "Bhilwara",
              "Churu",
              "Chittorgarh",
              "Dausa",
              "Dholpur",
              "Dungarpur",
              "Ganganagar",
              "Hanumangarh",
              "Jhunjhunu",
              "Jalore",
              "Jodhpur",
              "Jaipur",
              "Jaisalmer",
              "Jhalawar",
              "Karauli",
              "Kota",
              "Nagaur",
              "Pali",
              "Pratapgarh",
              "Rajsamand",
              "Sikar",
              "Sawai Madhopur",
              "Sirohi",
              "Tonk",
              "Udaipur",
              "East Sikkim",
              "North Sikkim",
              "South Sikkim",
              "West Sikkim",
              "Ariyalur",
              "Chengalpattu",
              "Chennai",
              "Coimbatore",
              "Cuddalore",
              "Dharmapuri",
              "Dindigul",
              "Erode",
              "Kallakurichi",
              "Kancheepuram",
              "Kanyakumari",
              "Karur",
              "Krishnagiri",
              "Madurai",
              "Nagapattinam",
              "Nilgiris",
              "Namakkal",
              "Perambalur",
              "Pudukkottai",
              "Ramanathapuram",
              "Ranipet",
              "Salem",
              "Sivaganga",
              "Tenkasi",
              "Tiruppur",
              "Tiruchirappalli",
              "Theni",
              "Tirunelveli",
              "Thanjavur",
              "Thoothukkudi",
              "Tirupathur",
              "Thiruvallur",
              "Thiruvarur",
              "Tiruvannamalai",
              "Vellore",
              "Viluppuram",
              "Virudhunagar",
              "Adilabad",
              "Komaram Bheem",
              "Bhadradri Kothagudem",
              "Hyderabad",
              "Jagtial",
              "Jangaon",
              "Jayashankar Bhupalapally",
              "Jogulamba Gadwal",
              "Kamareddy",
              "Karimnagar",
              "Khammam",
              "Mahabubabad",
              "Mahabubnagar",
              "Mancherial",
              "Medak",
              "Medchal Malkajgiri",
              "Nalgonda",
              "Narayanpet",
              "Nagarkurnool",
              "Nirmal",
              "Nizamabad",
              "Peddapalli",
              "Rajanna Sircilla",
              "Ranga Reddy",
              "Sangareddy",
              "Siddipet",
              "Suryapet",
              "Vikarabad",
              "Wanaparthy",
              "Warangal Urban",
              "Warangal Rural",
              "Yadadri Bhuvanagiri",
              "Dhalai",
              "Gomati",
              "Khowai",
              "North Tripura",
              "South Tripura",
              "Unokoti",
              "West Tripura",
              "Agra",
              "Aligarh",
              "Prayagraj",
              "Ambedkar Nagar",
              "Amethi",
              "Amroha",
              "Auraiya",
              "Azamgarh",
              "Baghpat",
              "Bahraich",
              "Ballia",
              "Balrampur",
              "Banda",
              "Barabanki",
              "Bareilly",
              "Basti",
              "Bhadohi",
              "Bijnor",
              "Budaun",
              "Bulandshahr",
              "Chandauli",
              "Chitrakoot",
              "Deoria",
              "Etah",
              "Etawah",
              "Ayodhya",
              "Farrukhabad",
              "Fatehpur",
              "Firozabad",
              "Gautam Buddha Nagar",
              "Ghaziabad",
              "Ghazipur",
              "Gonda",
              "Gorakhpur",
              "Hamirpur",
              "Hapur",
              "Hardoi",
              "Hathras",
              "Jalaun",
              "Jaunpur",
              "Jhansi",
              "Kannauj",
              "Kanpur Dehat",
              "Kanpur Nagar",
              "Kasganj",
              "Kaushambi",
              "Kushinagar",
              "Lakhimpur Kheri",
              "Lalitpur",
              "Lucknow",
              "Maharajganj",
              "Mahoba",
              "Mainpuri",
              "Mathura",
              "Mau",
              "Meerut",
              "Mirzapur",
              "Moradabad",
              "Muzaffarnagar",
              "Pilibhit",
              "Pratapgarh",
              "Rae Bareli",
              "Rampur",
              "Saharanpur",
              "Sambhal",
              "Sant Kabir Nagar",
              "Shahjahanpur",
              "Shamli",
              "Shrawasti",
              "Siddharthnagar",
              "Sitapur",
              "Sonbhadra",
              "Sultanpur",
              "Unnao",
              "Varanasi",
              "Almora",
              "Bageshwar",
              "Chamoli",
              "Champawat",
              "Dehradun",
              "Haridwar",
              "Nainital",
              "Pauri Garhwal",
              "Pithoragarh",
              "Rudraprayag",
              "Tehri Garhwal",
              "Udham Singh Nagar",
              "Uttarkashi",
              "Alipurduar",
              "Bankura",
              "Paschim Bardhaman",
              "Purba Bardhaman",
              "Birbhum",
              "Cooch Behar",
              "Dakshin Dinajpur",
              "Darjeeling",
              "Hooghly",
              "Howrah",
              "Jalpaiguri",
              "Jhargram",
              "Kalimpong",
              "Kolkata",
              "Malda",
              "Murshidabad",
              "Nadia",
              "North 24 Parganas",
              "Paschim Medinipur",
              "Purba Medinipur",
              "Purulia",
              "South 24 Parganas",
              "Uttar Dinajpur",
              "Nicobars",
              "North and Middle Andaman",
              "South Andaman",
              "Chandigarh",
              "Daman",
              "Diu",
              "Dadra and Nagar Haveli",
              "Anantnag",
              "Bandipora",
              "Baramulla",
              "Doda",
              "Ganderbal",
              "Jammu",
              "Kathua",
              "Kishtwar",
              "Kulgam",
              "Kupwara",
              "Pulwama",
              "Rajouri",
              "Ramban",
              "Reasi",
              "Samba",
              "Shopiyan",
              "Srinagar",
              "Udhampur",
              "Central Delhi",
              "East Delhi",
              "New Delhi",
              "North Delhi",
              "North East Delhi",
              "North West Delhi",
              "South Delhi",
              "South West Delhi",
              "West Delhi",
              "Karaikal",
              "Mahe",
              "Yanam"
            ],
            "_view_name": "DropdownView",
            "style": "IPY_MODEL_e8346a3d33ef44618a0cd1aa7ceba91c",
            "_dom_classes": [],
            "description": "",
            "_model_name": "DropdownModel",
            "index": 8,
            "_view_module": "@jupyter-widgets/controls",
            "_model_module_version": "1.5.0",
            "_view_count": null,
            "disabled": false,
            "_view_module_version": "1.5.0",
            "description_tooltip": null,
            "_model_module": "@jupyter-widgets/controls",
            "layout": "IPY_MODEL_686a2b97193d40cf8f305768512ae7b7"
          }
        },
        "e8346a3d33ef44618a0cd1aa7ceba91c": {
          "model_module": "@jupyter-widgets/controls",
          "model_name": "DescriptionStyleModel",
          "state": {
            "_view_name": "StyleView",
            "_model_name": "DescriptionStyleModel",
            "description_width": "",
            "_view_module": "@jupyter-widgets/base",
            "_model_module_version": "1.5.0",
            "_view_count": null,
            "_view_module_version": "1.2.0",
            "_model_module": "@jupyter-widgets/controls"
          }
        },
        "686a2b97193d40cf8f305768512ae7b7": {
          "model_module": "@jupyter-widgets/base",
          "model_name": "LayoutModel",
          "state": {
            "_view_name": "LayoutView",
            "grid_template_rows": null,
            "right": null,
            "justify_content": null,
            "_view_module": "@jupyter-widgets/base",
            "overflow": null,
            "_model_module_version": "1.2.0",
            "_view_count": null,
            "flex_flow": null,
            "width": null,
            "min_width": null,
            "border": null,
            "align_items": null,
            "bottom": null,
            "_model_module": "@jupyter-widgets/base",
            "top": null,
            "grid_column": null,
            "overflow_y": null,
            "overflow_x": null,
            "grid_auto_flow": null,
            "grid_area": null,
            "grid_template_columns": null,
            "flex": null,
            "_model_name": "LayoutModel",
            "justify_items": null,
            "grid_row": null,
            "max_height": null,
            "align_content": null,
            "visibility": null,
            "align_self": null,
            "height": null,
            "min_height": null,
            "padding": null,
            "grid_auto_rows": null,
            "grid_gap": null,
            "max_width": null,
            "order": null,
            "_view_module_version": "1.2.0",
            "grid_template_areas": null,
            "object_position": null,
            "object_fit": null,
            "grid_auto_columns": null,
            "margin": null,
            "display": null,
            "left": null
          }
        }
      }
    }
  },
  "cells": [
    {
      "cell_type": "markdown",
      "metadata": {
        "id": "view-in-github",
        "colab_type": "text"
      },
      "source": [
        "<a href=\"https://colab.research.google.com/github/praveenkr3187/BPPIMTCovidResponse/blob/master/NASA.ipynb\" target=\"_parent\"><img src=\"https://colab.research.google.com/assets/colab-badge.svg\" alt=\"Open In Colab\"/></a>"
      ]
    },
    {
      "cell_type": "code",
      "metadata": {
        "id": "m-2ZcSEPflfA",
        "colab_type": "code",
        "colab": {}
      },
      "source": [
        "import pandas as pd\n",
        "from sklearn.ensemble import ExtraTreesClassifier\n",
        "from sklearn.ensemble import RandomForestClassifier\n",
        "from sklearn.linear_model import LogisticRegression\n",
        "from sklearn.tree import DecisionTreeClassifier \n",
        "from sklearn.neighbors import KNeighborsClassifier\n",
        "from sklearn.naive_bayes import GaussianNB\n",
        "from sklearn.linear_model import SGDClassifier\n",
        "from sklearn.svm import SVC\n",
        "\n",
        "\n",
        "import matplotlib.pyplot as plt\n",
        "import ipywidgets as widgets\n",
        "import numpy as np\n",
        "from sklearn.model_selection import train_test_split\n",
        "from sklearn.metrics import classification_report,confusion_matrix\n",
        "from sklearn.feature_selection import SelectKBest\n",
        "from sklearn.feature_selection import f_classif\n",
        "from sklearn.feature_selection import RFE\n",
        "from sklearn.preprocessing import StandardScaler\n"
      ],
      "execution_count": 0,
      "outputs": []
    },
    {
      "cell_type": "code",
      "metadata": {
        "id": "5SW2gONr6mmC",
        "colab_type": "code",
        "colab": {}
      },
      "source": [
        "data = pd.read_csv('dataset-4.csv')"
      ],
      "execution_count": 0,
      "outputs": []
    },
    {
      "cell_type": "code",
      "metadata": {
        "id": "RCRutqgJ6q9s",
        "colab_type": "code",
        "outputId": "cb5c314e-5dab-4994-a934-77471714f74b",
        "colab": {
          "base_uri": "https://localhost:8080/",
          "height": 326
        }
      },
      "source": [
        "data.head()"
      ],
      "execution_count": 3,
      "outputs": [
        {
          "output_type": "execute_result",
          "data": {
            "text/html": [
              "<div>\n",
              "<style scoped>\n",
              "    .dataframe tbody tr th:only-of-type {\n",
              "        vertical-align: middle;\n",
              "    }\n",
              "\n",
              "    .dataframe tbody tr th {\n",
              "        vertical-align: top;\n",
              "    }\n",
              "\n",
              "    .dataframe thead th {\n",
              "        text-align: right;\n",
              "    }\n",
              "</style>\n",
              "<table border=\"1\" class=\"dataframe\">\n",
              "  <thead>\n",
              "    <tr style=\"text-align: right;\">\n",
              "      <th></th>\n",
              "      <th>State</th>\n",
              "      <th>District</th>\n",
              "      <th>Population</th>\n",
              "      <th>Area</th>\n",
              "      <th>Density</th>\n",
              "      <th>Workplaces</th>\n",
              "      <th>Residential</th>\n",
              "      <th>Retail</th>\n",
              "      <th>Grocery</th>\n",
              "      <th>Parks</th>\n",
              "      <th>Stations</th>\n",
              "      <th>Air quality</th>\n",
              "      <th>Water accessibility</th>\n",
              "      <th>Thermal anomalies</th>\n",
              "      <th>Confirmed</th>\n",
              "      <th>Active</th>\n",
              "      <th>Hotspot</th>\n",
              "      <th>Growth Ratio</th>\n",
              "    </tr>\n",
              "  </thead>\n",
              "  <tbody>\n",
              "    <tr>\n",
              "      <th>0</th>\n",
              "      <td>Andhra Pradesh</td>\n",
              "      <td>Anantapur</td>\n",
              "      <td>4083315</td>\n",
              "      <td>19130.0</td>\n",
              "      <td>213</td>\n",
              "      <td>-35</td>\n",
              "      <td>23</td>\n",
              "      <td>-78</td>\n",
              "      <td>-25</td>\n",
              "      <td>-59</td>\n",
              "      <td>-47</td>\n",
              "      <td>99</td>\n",
              "      <td>90.5</td>\n",
              "      <td>0</td>\n",
              "      <td>206</td>\n",
              "      <td>98</td>\n",
              "      <td>1</td>\n",
              "      <td>1.609186</td>\n",
              "    </tr>\n",
              "    <tr>\n",
              "      <th>1</th>\n",
              "      <td>Andhra Pradesh</td>\n",
              "      <td>Chittoor</td>\n",
              "      <td>4170468</td>\n",
              "      <td>15152.0</td>\n",
              "      <td>275</td>\n",
              "      <td>-35</td>\n",
              "      <td>23</td>\n",
              "      <td>-78</td>\n",
              "      <td>-25</td>\n",
              "      <td>-59</td>\n",
              "      <td>-47</td>\n",
              "      <td>99</td>\n",
              "      <td>90.5</td>\n",
              "      <td>1</td>\n",
              "      <td>234</td>\n",
              "      <td>82</td>\n",
              "      <td>1</td>\n",
              "      <td>1.419674</td>\n",
              "    </tr>\n",
              "    <tr>\n",
              "      <th>2</th>\n",
              "      <td>Andhra Pradesh</td>\n",
              "      <td>East Godavari</td>\n",
              "      <td>5151549</td>\n",
              "      <td>10807.0</td>\n",
              "      <td>477</td>\n",
              "      <td>-35</td>\n",
              "      <td>23</td>\n",
              "      <td>-78</td>\n",
              "      <td>-25</td>\n",
              "      <td>-59</td>\n",
              "      <td>-47</td>\n",
              "      <td>99</td>\n",
              "      <td>90.5</td>\n",
              "      <td>0</td>\n",
              "      <td>147</td>\n",
              "      <td>97</td>\n",
              "      <td>1</td>\n",
              "      <td>1.934529</td>\n",
              "    </tr>\n",
              "    <tr>\n",
              "      <th>3</th>\n",
              "      <td>Andhra Pradesh</td>\n",
              "      <td>Guntur</td>\n",
              "      <td>4889230</td>\n",
              "      <td>11391.0</td>\n",
              "      <td>429</td>\n",
              "      <td>-35</td>\n",
              "      <td>23</td>\n",
              "      <td>-78</td>\n",
              "      <td>-25</td>\n",
              "      <td>-59</td>\n",
              "      <td>-47</td>\n",
              "      <td>99</td>\n",
              "      <td>90.5</td>\n",
              "      <td>0</td>\n",
              "      <td>452</td>\n",
              "      <td>91</td>\n",
              "      <td>1</td>\n",
              "      <td>1.223025</td>\n",
              "    </tr>\n",
              "    <tr>\n",
              "      <th>4</th>\n",
              "      <td>Andhra Pradesh</td>\n",
              "      <td>Krishna</td>\n",
              "      <td>4529009</td>\n",
              "      <td>8727.0</td>\n",
              "      <td>519</td>\n",
              "      <td>-35</td>\n",
              "      <td>23</td>\n",
              "      <td>-78</td>\n",
              "      <td>-25</td>\n",
              "      <td>-59</td>\n",
              "      <td>-47</td>\n",
              "      <td>99</td>\n",
              "      <td>90.5</td>\n",
              "      <td>0</td>\n",
              "      <td>445</td>\n",
              "      <td>130</td>\n",
              "      <td>1</td>\n",
              "      <td>1.339284</td>\n",
              "    </tr>\n",
              "  </tbody>\n",
              "</table>\n",
              "</div>"
            ],
            "text/plain": [
              "            State       District  Population  ...  Active  Hotspot  Growth Ratio\n",
              "0  Andhra Pradesh      Anantapur     4083315  ...      98        1      1.609186\n",
              "1  Andhra Pradesh       Chittoor     4170468  ...      82        1      1.419674\n",
              "2  Andhra Pradesh  East Godavari     5151549  ...      97        1      1.934529\n",
              "3  Andhra Pradesh         Guntur     4889230  ...      91        1      1.223025\n",
              "4  Andhra Pradesh        Krishna     4529009  ...     130        1      1.339284\n",
              "\n",
              "[5 rows x 18 columns]"
            ]
          },
          "metadata": {
            "tags": []
          },
          "execution_count": 3
        }
      ]
    },
    {
      "cell_type": "code",
      "metadata": {
        "id": "l2tBBh4NmiTc",
        "colab_type": "code",
        "outputId": "62719624-f9b5-40f1-d189-491ce5304330",
        "colab": {
          "base_uri": "https://localhost:8080/",
          "height": 393,
          "referenced_widgets": [
            "44680c37de334f04ba1521c51d23f63c",
            "e8346a3d33ef44618a0cd1aa7ceba91c",
            "686a2b97193d40cf8f305768512ae7b7"
          ]
        }
      },
      "source": [
        "dropdownDistricts = widgets.Dropdown(options = data.District)\n",
        "outputDistricts = widgets.Output()\n",
        "def dropdown_district_eventhandler(change):\n",
        "    outputDistricts.clear_output()\n",
        "    with outputDistricts:\n",
        "      try:\n",
        "        _ = plt.figure(figsize=(23, 6))\n",
        "        _ = plt.bar(data.columns[4:-2],data.values[change.new['index'],4:-2])\n",
        "        _.show()\n",
        "      except:\n",
        "        pass\n",
        "\n",
        "dropdownDistricts.observe(dropdown_district_eventhandler)\n",
        "display(dropdownDistricts)"
      ],
      "execution_count": 4,
      "outputs": [
        {
          "output_type": "display_data",
          "data": {
            "application/vnd.jupyter.widget-view+json": {
              "model_id": "44680c37de334f04ba1521c51d23f63c",
              "version_minor": 0,
              "version_major": 2
            },
            "text/plain": [
              "Dropdown(options=('Anantapur', 'Chittoor', 'East Godavari', 'Guntur', 'Krishna', 'Kurnool', 'Prakasam', 'S.P.S…"
            ]
          },
          "metadata": {
            "tags": []
          }
        },
        {
          "output_type": "display_data",
          "data": {
            "image/png": "[encoded data removed]",
            "text/plain": [
              "<Figure size 1656x432 with 1 Axes>"
            ]
          },
          "metadata": {
            "tags": [],
            "needs_background": "light"
          }
        },
        {
          "output_type": "display_data",
          "data": {
            "text/plain": [
              "<Figure size 1656x432 with 0 Axes>"
            ]
          },
          "metadata": {
            "tags": []
          }
        },
        {
          "output_type": "display_data",
          "data": {
            "text/plain": [
              "<Figure size 1656x432 with 0 Axes>"
            ]
          },
          "metadata": {
            "tags": []
          }
        },
        {
          "output_type": "display_data",
          "data": {
            "text/plain": [
              "<Figure size 1656x432 with 0 Axes>"
            ]
          },
          "metadata": {
            "tags": []
          }
        },
        {
          "output_type": "display_data",
          "data": {
            "text/plain": [
              "<Figure size 1656x432 with 0 Axes>"
            ]
          },
          "metadata": {
            "tags": []
          }
        }
      ]
    },
    {
      "cell_type": "code",
      "metadata": {
        "id": "f9mAT8FR8Vsz",
        "colab_type": "code",
        "colab": {}
      },
      "source": [
        "data_val = data.values\n"
      ],
      "execution_count": 0,
      "outputs": []
    },
    {
      "cell_type": "code",
      "metadata": {
        "id": "fh5G9KWnh3Ux",
        "colab_type": "code",
        "colab": {}
      },
      "source": [
        "X = data_val[:,4:-4]  "
      ],
      "execution_count": 0,
      "outputs": []
    },
    {
      "cell_type": "code",
      "metadata": {
        "id": "i3287xVfh_hH",
        "colab_type": "code",
        "colab": {}
      },
      "source": [
        "Y = data_val[:,-2]\n",
        "y = Y.astype('int') "
      ],
      "execution_count": 0,
      "outputs": []
    },
    {
      "cell_type": "code",
      "metadata": {
        "id": "CYd0dlbb8CD9",
        "colab_type": "code",
        "colab": {}
      },
      "source": [
        "#normalisation\n",
        "scaler = StandardScaler()\n",
        "X = scaler.fit_transform(X)\n"
      ],
      "execution_count": 0,
      "outputs": []
    },
    {
      "cell_type": "code",
      "metadata": {
        "id": "hSJc9cd6Yhw2",
        "colab_type": "code",
        "colab": {}
      },
      "source": [
        "X_train, X_test, y_train, y_test = train_test_split(X, y, train_size=0.65,test_size=0.35, random_state=101)\n"
      ],
      "execution_count": 0,
      "outputs": []
    },
    {
      "cell_type": "markdown",
      "metadata": {
        "id": "wAxUtHLaY8S0",
        "colab_type": "text"
      },
      "source": [
        "**calculating feature importance**"
      ]
    },
    {
      "cell_type": "code",
      "metadata": {
        "id": "mZbMe7ZXqPjW",
        "colab_type": "code",
        "outputId": "3bce7ec5-7175-44ca-f10a-0d8c2cb7de3e",
        "colab": {
          "base_uri": "https://localhost:8080/",
          "height": 51
        }
      },
      "source": [
        "model = RandomForestClassifier(n_estimators=24, criterion=\"entropy\",max_depth=7)\n",
        "model.fit(X,y)\n",
        "print(model.feature_importances_)"
      ],
      "execution_count": 11,
      "outputs": [
        {
          "output_type": "stream",
          "text": [
            "[0.46334651 0.08040393 0.08958934 0.04481669 0.05326993 0.04490552\n",
            " 0.10734031 0.04144776 0.05604751 0.01883249]\n"
          ],
          "name": "stdout"
        }
      ]
    },
    {
      "cell_type": "code",
      "metadata": {
        "id": "QO5e8UH76Vjy",
        "colab_type": "code",
        "outputId": "e7ae0858-8c1f-41f0-a6d4-66abc79eedaa",
        "colab": {
          "base_uri": "https://localhost:8080/",
          "height": 575
        }
      },
      "source": [
        "importance = model.feature_importances_\n",
        "plt.figure(figsize=(23, 10))\n",
        "_ = plt.pie(importance, labels = data.columns[4:-4])"
      ],
      "execution_count": 12,
      "outputs": [
        {
          "output_type": "display_data",
          "data": {
            "image/png": "[encoded data removed]",
            "text/plain": [
              "<Figure size 1656x720 with 1 Axes>"
            ]
          },
          "metadata": {
            "tags": []
          }
        }
      ]
    },
    {
      "cell_type": "markdown",
      "metadata": {
        "id": "7csOMswBlGUo",
        "colab_type": "text"
      },
      "source": [
        "\n",
        "**Calculating importance for mobility factors**\n",
        "\n",
        "\n"
      ]
    },
    {
      "cell_type": "code",
      "metadata": {
        "id": "GUj90GQY8e-h",
        "colab_type": "code",
        "colab": {}
      },
      "source": [
        "mobility_values = X[:,1:7]"
      ],
      "execution_count": 0,
      "outputs": []
    },
    {
      "cell_type": "code",
      "metadata": {
        "id": "GNaK9QI8m8RA",
        "colab_type": "code",
        "outputId": "19efe591-11ba-4904-d5ae-e4abda443cea",
        "colab": {
          "base_uri": "https://localhost:8080/",
          "height": 34
        }
      },
      "source": [
        "model = RandomForestClassifier(n_estimators=24, criterion=\"entropy\",max_depth=7)\n",
        "model.fit(mobility_values,y)\n",
        "print(model.feature_importances_)"
      ],
      "execution_count": 14,
      "outputs": [
        {
          "output_type": "stream",
          "text": [
            "[0.18799364 0.19014669 0.12274289 0.16912917 0.15363507 0.17635255]\n"
          ],
          "name": "stdout"
        }
      ]
    },
    {
      "cell_type": "code",
      "metadata": {
        "id": "byiKo4Pg8iWx",
        "colab_type": "code",
        "outputId": "c802c0fe-5db2-4c72-ee7a-aba032d6f381",
        "colab": {
          "base_uri": "https://localhost:8080/",
          "height": 575
        }
      },
      "source": [
        "importance = model.feature_importances_\n",
        "plt.figure(figsize=(23, 10))\n",
        "_ = plt.pie(importance, labels = data.columns[5:11])"
      ],
      "execution_count": 15,
      "outputs": [
        {
          "output_type": "display_data",
          "data": {
            "image/png": "[encoded data removed]",
            "text/plain": [
              "<Figure size 1656x720 with 1 Axes>"
            ]
          },
          "metadata": {
            "tags": []
          }
        }
      ]
    },
    {
      "cell_type": "code",
      "metadata": {
        "id": "itomRULeq67c",
        "colab_type": "code",
        "colab": {}
      },
      "source": [
        ""
      ],
      "execution_count": 0,
      "outputs": []
    },
    {
      "cell_type": "markdown",
      "metadata": {
        "id": "QUgQt2zGrEqA",
        "colab_type": "text"
      },
      "source": [
        " **Univariate Selection** \n",
        "\n"
      ]
    },
    {
      "cell_type": "code",
      "metadata": {
        "id": "DYdi_1AW1UxH",
        "colab_type": "code",
        "outputId": "bd765fe5-0ecc-49a4-83de-2debf9b4209e",
        "colab": {
          "base_uri": "https://localhost:8080/",
          "height": 153
        }
      },
      "source": [
        "test = SelectKBest(score_func=f_classif, k=5)\n",
        "fit = test.fit(X, y)\n",
        "# summarize scores\n",
        "np.set_printoptions(precision=3)\n",
        "print(fit.scores_)\n",
        "features = fit.transform(X)\n",
        "# summarize selected features\n",
        "print(features[0:6,:])"
      ],
      "execution_count": 16,
      "outputs": [
        {
          "output_type": "stream",
          "text": [
            "[3.615e+01 9.273e-02 2.351e+01 1.269e+00 2.892e+00 1.988e-01 2.888e+00\n",
            " 2.262e-01 8.757e+00 1.863e-02]\n",
            "[[-0.232  0.783 -0.229 -0.112  0.565]\n",
            " [-0.21   0.783 -0.229 -0.112  0.565]\n",
            " [-0.139  0.783 -0.229 -0.112  0.565]\n",
            " [-0.156  0.783 -0.229 -0.112  0.565]\n",
            " [-0.124  0.783 -0.229 -0.112  0.565]\n",
            " [-0.227  0.783 -0.229 -0.112  0.565]]\n"
          ],
          "name": "stdout"
        }
      ]
    },
    {
      "cell_type": "code",
      "metadata": {
        "id": "JQ-6LyeixZFP",
        "colab_type": "code",
        "outputId": "6e77a125-9a84-421a-869f-b653eb4e6cca",
        "colab": {
          "base_uri": "https://localhost:8080/",
          "height": 575
        }
      },
      "source": [
        "importance = fit.scores_\n",
        "plt.figure(figsize=(23, 10))\n",
        "_ = plt.pie(importance, labels = data.columns[4:-4])"
      ],
      "execution_count": 17,
      "outputs": [
        {
          "output_type": "display_data",
          "data": {
            "image/png": "[encoded data removed]",
            "text/plain": [
              "<Figure size 1656x720 with 1 Axes>"
            ]
          },
          "metadata": {
            "tags": []
          }
        }
      ]
    },
    {
      "cell_type": "markdown",
      "metadata": {
        "id": "I8MYv5CX270z",
        "colab_type": "text"
      },
      "source": [
        "**Mobility**"
      ]
    },
    {
      "cell_type": "code",
      "metadata": {
        "id": "cIDzLfZIzg17",
        "colab_type": "code",
        "outputId": "7b311c56-088c-48ad-9e3f-9659ce628621",
        "colab": {
          "base_uri": "https://localhost:8080/",
          "height": 102
        }
      },
      "source": [
        "mobility_values = X[:,1:7]\n",
        "test = SelectKBest(score_func=f_classif, k=3)\n",
        "fit = test.fit(mobility_values, y)\n",
        "# summarize scores\n",
        "np.set_printoptions(precision=3)\n",
        "print(fit.scores_)\n",
        "features = fit.transform(mobility_values)\n",
        "# summarize selected features\n",
        "print(features[0:4,:])"
      ],
      "execution_count": 18,
      "outputs": [
        {
          "output_type": "stream",
          "text": [
            "[ 0.093 23.507  1.269  2.892  0.199  2.888]\n",
            "[[ 0.783 -0.229 -0.112]\n",
            " [ 0.783 -0.229 -0.112]\n",
            " [ 0.783 -0.229 -0.112]\n",
            " [ 0.783 -0.229 -0.112]]\n"
          ],
          "name": "stdout"
        }
      ]
    },
    {
      "cell_type": "code",
      "metadata": {
        "id": "XmhtPydmzl4v",
        "colab_type": "code",
        "outputId": "491ba85e-8ba4-4730-a47b-47e1fe542193",
        "colab": {
          "base_uri": "https://localhost:8080/",
          "height": 575
        }
      },
      "source": [
        "importance = fit.scores_\n",
        "plt.figure(figsize=(23, 10))\n",
        "_ = plt.pie(importance, labels = data.columns[5:11])"
      ],
      "execution_count": 19,
      "outputs": [
        {
          "output_type": "display_data",
          "data": {
            "image/png": "[encoded data removed]",
            "text/plain": [
              "<Figure size 1656x720 with 1 Axes>"
            ]
          },
          "metadata": {
            "tags": []
          }
        }
      ]
    },
    {
      "cell_type": "code",
      "metadata": {
        "id": "WrxPDzaS0gn9",
        "colab_type": "code",
        "colab": {}
      },
      "source": [
        ""
      ],
      "execution_count": 0,
      "outputs": []
    },
    {
      "cell_type": "markdown",
      "metadata": {
        "id": "5Lm9yc0v40P4",
        "colab_type": "text"
      },
      "source": [
        "Predictions!"
      ]
    },
    {
      "cell_type": "code",
      "metadata": {
        "id": "ECpq6eP_42c8",
        "colab_type": "code",
        "outputId": "6bded602-9cae-41ab-98a0-491b89a19052",
        "colab": {
          "base_uri": "https://localhost:8080/",
          "height": 204
        }
      },
      "source": [
        "#logistic regression\n",
        "model = LogisticRegression(random_state=42, solver='lbfgs', multi_class='ovr')\n",
        "model.fit(X_train,y_train)\n",
        "y_pred = model.predict(X_test)\n",
        "print(confusion_matrix(y_test,y_pred))\n",
        "print(classification_report(y_test,y_pred))"
      ],
      "execution_count": 20,
      "outputs": [
        {
          "output_type": "stream",
          "text": [
            "[[182   9]\n",
            " [ 49   3]]\n",
            "              precision    recall  f1-score   support\n",
            "\n",
            "           0       0.79      0.95      0.86       191\n",
            "           1       0.25      0.06      0.09        52\n",
            "\n",
            "    accuracy                           0.76       243\n",
            "   macro avg       0.52      0.51      0.48       243\n",
            "weighted avg       0.67      0.76      0.70       243\n",
            "\n"
          ],
          "name": "stdout"
        }
      ]
    },
    {
      "cell_type": "code",
      "metadata": {
        "id": "CbUHVPRraLuU",
        "colab_type": "code",
        "outputId": "3a78c305-640f-477f-e7ef-81ecedf5a2f8",
        "colab": {
          "base_uri": "https://localhost:8080/",
          "height": 204
        }
      },
      "source": [
        "model = LogisticRegression(random_state=42, solver='lbfgs', multi_class='ovr')\n",
        "model.fit(X_train[:,[0,2,5,6]],y_train)\n",
        "y_pred = model.predict(X_test[:,[0,2,5,6]])\n",
        "print(confusion_matrix(y_test,y_pred))\n",
        "print(classification_report(y_test,y_pred))"
      ],
      "execution_count": 21,
      "outputs": [
        {
          "output_type": "stream",
          "text": [
            "[[182   9]\n",
            " [ 48   4]]\n",
            "              precision    recall  f1-score   support\n",
            "\n",
            "           0       0.79      0.95      0.86       191\n",
            "           1       0.31      0.08      0.12        52\n",
            "\n",
            "    accuracy                           0.77       243\n",
            "   macro avg       0.55      0.51      0.49       243\n",
            "weighted avg       0.69      0.77      0.71       243\n",
            "\n"
          ],
          "name": "stdout"
        }
      ]
    },
    {
      "cell_type": "markdown",
      "metadata": {
        "id": "D8x5CM92Mmqi",
        "colab_type": "text"
      },
      "source": [
        "random forest"
      ]
    },
    {
      "cell_type": "code",
      "metadata": {
        "id": "q72wxY7hMpJQ",
        "colab_type": "code",
        "outputId": "5954df68-688f-4611-9c5e-a98b20bdb606",
        "colab": {
          "base_uri": "https://localhost:8080/",
          "height": 204
        }
      },
      "source": [
        "model = RandomForestClassifier(n_estimators=24, criterion=\"entropy\",max_depth=7)\n",
        "model.fit(X_train,y_train)\n",
        "y_pred = model.predict(X_test)\n",
        "print(confusion_matrix(y_test,y_pred))\n",
        "print(classification_report(y_test,y_pred))"
      ],
      "execution_count": 22,
      "outputs": [
        {
          "output_type": "stream",
          "text": [
            "[[175  16]\n",
            " [ 35  17]]\n",
            "              precision    recall  f1-score   support\n",
            "\n",
            "           0       0.83      0.92      0.87       191\n",
            "           1       0.52      0.33      0.40        52\n",
            "\n",
            "    accuracy                           0.79       243\n",
            "   macro avg       0.67      0.62      0.64       243\n",
            "weighted avg       0.77      0.79      0.77       243\n",
            "\n"
          ],
          "name": "stdout"
        }
      ]
    },
    {
      "cell_type": "code",
      "metadata": {
        "id": "a-1vSnezX4qe",
        "colab_type": "code",
        "outputId": "c0c5908f-6a70-474d-a506-859db9d25b2d",
        "colab": {
          "base_uri": "https://localhost:8080/",
          "height": 204
        }
      },
      "source": [
        "model = RandomForestClassifier(n_estimators=24, criterion=\"entropy\",max_depth=7)\n",
        "model.fit(X_train[:,[0,2,5,6]],y_train)\n",
        "y_pred = model.predict(X_test[:,[0,2,5,6]])\n",
        "print(confusion_matrix(y_test,y_pred))\n",
        "print(classification_report(y_test,y_pred))"
      ],
      "execution_count": 23,
      "outputs": [
        {
          "output_type": "stream",
          "text": [
            "[[176  15]\n",
            " [ 32  20]]\n",
            "              precision    recall  f1-score   support\n",
            "\n",
            "           0       0.85      0.92      0.88       191\n",
            "           1       0.57      0.38      0.46        52\n",
            "\n",
            "    accuracy                           0.81       243\n",
            "   macro avg       0.71      0.65      0.67       243\n",
            "weighted avg       0.79      0.81      0.79       243\n",
            "\n"
          ],
          "name": "stdout"
        }
      ]
    },
    {
      "cell_type": "markdown",
      "metadata": {
        "id": "rIrl5fCvQQ8g",
        "colab_type": "text"
      },
      "source": [
        "KNN\n",
        "\n"
      ]
    },
    {
      "cell_type": "code",
      "metadata": {
        "id": "9-qqqhLeY7y8",
        "colab_type": "code",
        "outputId": "3e903d46-8b35-44ff-d418-353d2dc6895a",
        "colab": {
          "base_uri": "https://localhost:8080/",
          "height": 204
        }
      },
      "source": [
        "model = KNeighborsClassifier(n_neighbors=3)\n",
        "model.fit(X_train,y_train)\n",
        "y_pred = model.predict(X_test)\n",
        "print(confusion_matrix(y_test,y_pred))\n",
        "print(classification_report(y_test,y_pred))"
      ],
      "execution_count": 24,
      "outputs": [
        {
          "output_type": "stream",
          "text": [
            "[[162  29]\n",
            " [ 32  20]]\n",
            "              precision    recall  f1-score   support\n",
            "\n",
            "           0       0.84      0.85      0.84       191\n",
            "           1       0.41      0.38      0.40        52\n",
            "\n",
            "    accuracy                           0.75       243\n",
            "   macro avg       0.62      0.62      0.62       243\n",
            "weighted avg       0.74      0.75      0.75       243\n",
            "\n"
          ],
          "name": "stdout"
        }
      ]
    },
    {
      "cell_type": "code",
      "metadata": {
        "id": "ztV8iOJfY_P1",
        "colab_type": "code",
        "outputId": "a6e3dda1-0bb8-46bd-bd81-f8c9083ada7d",
        "colab": {
          "base_uri": "https://localhost:8080/",
          "height": 204
        }
      },
      "source": [
        "model = KNeighborsClassifier(n_neighbors=3)\n",
        "model.fit(X_train[:,[0,2,5,6]],y_train)\n",
        "y_pred = model.predict(X_test[:,[0,2,5,6]])\n",
        "print(confusion_matrix(y_test,y_pred))\n",
        "print(classification_report(y_test,y_pred))"
      ],
      "execution_count": 25,
      "outputs": [
        {
          "output_type": "stream",
          "text": [
            "[[163  28]\n",
            " [ 31  21]]\n",
            "              precision    recall  f1-score   support\n",
            "\n",
            "           0       0.84      0.85      0.85       191\n",
            "           1       0.43      0.40      0.42        52\n",
            "\n",
            "    accuracy                           0.76       243\n",
            "   macro avg       0.63      0.63      0.63       243\n",
            "weighted avg       0.75      0.76      0.75       243\n",
            "\n"
          ],
          "name": "stdout"
        }
      ]
    },
    {
      "cell_type": "markdown",
      "metadata": {
        "id": "coG2bBKIaGdp",
        "colab_type": "text"
      },
      "source": [
        "Naive Bayes"
      ]
    },
    {
      "cell_type": "code",
      "metadata": {
        "id": "Q6H1WtSaZXvV",
        "colab_type": "code",
        "outputId": "84055923-ae25-4a71-9031-6d90eeee95da",
        "colab": {
          "base_uri": "https://localhost:8080/",
          "height": 204
        }
      },
      "source": [
        "model = GaussianNB()\n",
        "model.fit(X_train,y_train)\n",
        "y_pred = model.predict(X_test)\n",
        "print(confusion_matrix(y_test,y_pred))\n",
        "print(classification_report(y_test,y_pred))"
      ],
      "execution_count": 26,
      "outputs": [
        {
          "output_type": "stream",
          "text": [
            "[[182   9]\n",
            " [ 48   4]]\n",
            "              precision    recall  f1-score   support\n",
            "\n",
            "           0       0.79      0.95      0.86       191\n",
            "           1       0.31      0.08      0.12        52\n",
            "\n",
            "    accuracy                           0.77       243\n",
            "   macro avg       0.55      0.51      0.49       243\n",
            "weighted avg       0.69      0.77      0.71       243\n",
            "\n"
          ],
          "name": "stdout"
        }
      ]
    },
    {
      "cell_type": "code",
      "metadata": {
        "id": "0MVaKB1kbBK3",
        "colab_type": "code",
        "outputId": "1a1265e8-5e6e-4f69-c64d-7b044da98134",
        "colab": {
          "base_uri": "https://localhost:8080/",
          "height": 204
        }
      },
      "source": [
        "model = GaussianNB()\n",
        "model.fit(X_train[:,[0,2,5,6]],y_train)\n",
        "y_pred = model.predict(X_test[:,[0,2,5,6]])\n",
        "print(confusion_matrix(y_test,y_pred))\n",
        "print(classification_report(y_test,y_pred))"
      ],
      "execution_count": 27,
      "outputs": [
        {
          "output_type": "stream",
          "text": [
            "[[182   9]\n",
            " [ 48   4]]\n",
            "              precision    recall  f1-score   support\n",
            "\n",
            "           0       0.79      0.95      0.86       191\n",
            "           1       0.31      0.08      0.12        52\n",
            "\n",
            "    accuracy                           0.77       243\n",
            "   macro avg       0.55      0.51      0.49       243\n",
            "weighted avg       0.69      0.77      0.71       243\n",
            "\n"
          ],
          "name": "stdout"
        }
      ]
    },
    {
      "cell_type": "markdown",
      "metadata": {
        "id": "sspENvYCbMyL",
        "colab_type": "text"
      },
      "source": [
        "SVM"
      ]
    },
    {
      "cell_type": "code",
      "metadata": {
        "id": "de-rc0P6nWKd",
        "colab_type": "code",
        "outputId": "dfcec8e6-c7b8-4c79-9d88-fac69ca0368d",
        "colab": {
          "base_uri": "https://localhost:8080/",
          "height": 232
        }
      },
      "source": [
        "model = svm.SVC(kernel='linear')\n",
        "model.fit(X_train,y_train)\n",
        "y_pred = model.predict(X_test)\n",
        "print(confusion_matrix(y_test,y_pred))\n",
        "print(classification_report(y_test,y_pred))"
      ],
      "execution_count": 28,
      "outputs": [
        {
          "output_type": "error",
          "ename": "NameError",
          "evalue": "ignored",
          "traceback": [
            "\u001b[0;31m---------------------------------------------------------------------------\u001b[0m",
            "\u001b[0;31mNameError\u001b[0m                                 Traceback (most recent call last)",
            "\u001b[0;32m<ipython-input-28-c1e484367053>\u001b[0m in \u001b[0;36m<module>\u001b[0;34m()\u001b[0m\n\u001b[0;32m----> 1\u001b[0;31m \u001b[0mmodel\u001b[0m \u001b[0;34m=\u001b[0m \u001b[0msvm\u001b[0m\u001b[0;34m.\u001b[0m\u001b[0mSVC\u001b[0m\u001b[0;34m(\u001b[0m\u001b[0mkernel\u001b[0m\u001b[0;34m=\u001b[0m\u001b[0;34m'linear'\u001b[0m\u001b[0;34m)\u001b[0m\u001b[0;34m\u001b[0m\u001b[0;34m\u001b[0m\u001b[0m\n\u001b[0m\u001b[1;32m      2\u001b[0m \u001b[0mmodel\u001b[0m\u001b[0;34m.\u001b[0m\u001b[0mfit\u001b[0m\u001b[0;34m(\u001b[0m\u001b[0mX_train\u001b[0m\u001b[0;34m,\u001b[0m\u001b[0my_train\u001b[0m\u001b[0;34m)\u001b[0m\u001b[0;34m\u001b[0m\u001b[0;34m\u001b[0m\u001b[0m\n\u001b[1;32m      3\u001b[0m \u001b[0my_pred\u001b[0m \u001b[0;34m=\u001b[0m \u001b[0mmodel\u001b[0m\u001b[0;34m.\u001b[0m\u001b[0mpredict\u001b[0m\u001b[0;34m(\u001b[0m\u001b[0mX_test\u001b[0m\u001b[0;34m)\u001b[0m\u001b[0;34m\u001b[0m\u001b[0;34m\u001b[0m\u001b[0m\n\u001b[1;32m      4\u001b[0m \u001b[0mprint\u001b[0m\u001b[0;34m(\u001b[0m\u001b[0mconfusion_matrix\u001b[0m\u001b[0;34m(\u001b[0m\u001b[0my_test\u001b[0m\u001b[0;34m,\u001b[0m\u001b[0my_pred\u001b[0m\u001b[0;34m)\u001b[0m\u001b[0;34m)\u001b[0m\u001b[0;34m\u001b[0m\u001b[0;34m\u001b[0m\u001b[0m\n\u001b[1;32m      5\u001b[0m \u001b[0mprint\u001b[0m\u001b[0;34m(\u001b[0m\u001b[0mclassification_report\u001b[0m\u001b[0;34m(\u001b[0m\u001b[0my_test\u001b[0m\u001b[0;34m,\u001b[0m\u001b[0my_pred\u001b[0m\u001b[0;34m)\u001b[0m\u001b[0;34m)\u001b[0m\u001b[0;34m\u001b[0m\u001b[0;34m\u001b[0m\u001b[0m\n",
            "\u001b[0;31mNameError\u001b[0m: name 'svm' is not defined"
          ]
        }
      ]
    },
    {
      "cell_type": "code",
      "metadata": {
        "id": "hlKyIa4QnZoL",
        "colab_type": "code",
        "outputId": "cdcd636b-f591-4708-a381-5caee4ff1bfb",
        "colab": {
          "base_uri": "https://localhost:8080/",
          "height": 232
        }
      },
      "source": [
        "model = svm.SVC(kernel='linear')\n",
        "model.fit(X_train[:,[0,2,5,6]],y_train)\n",
        "y_pred = model.predict(X_test[:,[0,2,5,6]])\n",
        "print(confusion_matrix(y_test,y_pred))\n",
        "print(classification_report(y_test,y_pred))"
      ],
      "execution_count": 29,
      "outputs": [
        {
          "output_type": "error",
          "ename": "NameError",
          "evalue": "ignored",
          "traceback": [
            "\u001b[0;31m---------------------------------------------------------------------------\u001b[0m",
            "\u001b[0;31mNameError\u001b[0m                                 Traceback (most recent call last)",
            "\u001b[0;32m<ipython-input-29-c90f3fdce817>\u001b[0m in \u001b[0;36m<module>\u001b[0;34m()\u001b[0m\n\u001b[0;32m----> 1\u001b[0;31m \u001b[0mmodel\u001b[0m \u001b[0;34m=\u001b[0m \u001b[0msvm\u001b[0m\u001b[0;34m.\u001b[0m\u001b[0mSVC\u001b[0m\u001b[0;34m(\u001b[0m\u001b[0mkernel\u001b[0m\u001b[0;34m=\u001b[0m\u001b[0;34m'linear'\u001b[0m\u001b[0;34m)\u001b[0m\u001b[0;34m\u001b[0m\u001b[0;34m\u001b[0m\u001b[0m\n\u001b[0m\u001b[1;32m      2\u001b[0m \u001b[0mmodel\u001b[0m\u001b[0;34m.\u001b[0m\u001b[0mfit\u001b[0m\u001b[0;34m(\u001b[0m\u001b[0mX_train\u001b[0m\u001b[0;34m[\u001b[0m\u001b[0;34m:\u001b[0m\u001b[0;34m,\u001b[0m\u001b[0;34m[\u001b[0m\u001b[0;36m0\u001b[0m\u001b[0;34m,\u001b[0m\u001b[0;36m2\u001b[0m\u001b[0;34m,\u001b[0m\u001b[0;36m5\u001b[0m\u001b[0;34m,\u001b[0m\u001b[0;36m6\u001b[0m\u001b[0;34m]\u001b[0m\u001b[0;34m]\u001b[0m\u001b[0;34m,\u001b[0m\u001b[0my_train\u001b[0m\u001b[0;34m)\u001b[0m\u001b[0;34m\u001b[0m\u001b[0;34m\u001b[0m\u001b[0m\n\u001b[1;32m      3\u001b[0m \u001b[0my_pred\u001b[0m \u001b[0;34m=\u001b[0m \u001b[0mmodel\u001b[0m\u001b[0;34m.\u001b[0m\u001b[0mpredict\u001b[0m\u001b[0;34m(\u001b[0m\u001b[0mX_test\u001b[0m\u001b[0;34m[\u001b[0m\u001b[0;34m:\u001b[0m\u001b[0;34m,\u001b[0m\u001b[0;34m[\u001b[0m\u001b[0;36m0\u001b[0m\u001b[0;34m,\u001b[0m\u001b[0;36m2\u001b[0m\u001b[0;34m,\u001b[0m\u001b[0;36m5\u001b[0m\u001b[0;34m,\u001b[0m\u001b[0;36m6\u001b[0m\u001b[0;34m]\u001b[0m\u001b[0;34m]\u001b[0m\u001b[0;34m)\u001b[0m\u001b[0;34m\u001b[0m\u001b[0;34m\u001b[0m\u001b[0m\n\u001b[1;32m      4\u001b[0m \u001b[0mprint\u001b[0m\u001b[0;34m(\u001b[0m\u001b[0mconfusion_matrix\u001b[0m\u001b[0;34m(\u001b[0m\u001b[0my_test\u001b[0m\u001b[0;34m,\u001b[0m\u001b[0my_pred\u001b[0m\u001b[0;34m)\u001b[0m\u001b[0;34m)\u001b[0m\u001b[0;34m\u001b[0m\u001b[0;34m\u001b[0m\u001b[0m\n\u001b[1;32m      5\u001b[0m \u001b[0mprint\u001b[0m\u001b[0;34m(\u001b[0m\u001b[0mclassification_report\u001b[0m\u001b[0;34m(\u001b[0m\u001b[0my_test\u001b[0m\u001b[0;34m,\u001b[0m\u001b[0my_pred\u001b[0m\u001b[0;34m)\u001b[0m\u001b[0;34m)\u001b[0m\u001b[0;34m\u001b[0m\u001b[0;34m\u001b[0m\u001b[0m\n",
            "\u001b[0;31mNameError\u001b[0m: name 'svm' is not defined"
          ]
        }
      ]
    },
    {
      "cell_type": "markdown",
      "metadata": {
        "id": "xj1_sL0ufXbR",
        "colab_type": "text"
      },
      "source": [
        "SGD"
      ]
    },
    {
      "cell_type": "code",
      "metadata": {
        "id": "xyHoU735fYSE",
        "colab_type": "code",
        "outputId": "efb508ec-07ba-4f4b-eb31-95c31acff75e",
        "colab": {
          "base_uri": "https://localhost:8080/",
          "height": 204
        }
      },
      "source": [
        "model = SGDClassifier(max_iter = 200, tol=1e-3,penalty = \"elasticnet\")\n",
        "model.fit(X_train,y_train)\n",
        "y_pred = model.predict(X_test)\n",
        "print(confusion_matrix(y_test,y_pred))\n",
        "print(classification_report(y_test,y_pred))"
      ],
      "execution_count": 30,
      "outputs": [
        {
          "output_type": "stream",
          "text": [
            "[[157  34]\n",
            " [ 29  23]]\n",
            "              precision    recall  f1-score   support\n",
            "\n",
            "           0       0.84      0.82      0.83       191\n",
            "           1       0.40      0.44      0.42        52\n",
            "\n",
            "    accuracy                           0.74       243\n",
            "   macro avg       0.62      0.63      0.63       243\n",
            "weighted avg       0.75      0.74      0.74       243\n",
            "\n"
          ],
          "name": "stdout"
        }
      ]
    },
    {
      "cell_type": "code",
      "metadata": {
        "id": "I2ubH0mEfbBP",
        "colab_type": "code",
        "outputId": "2f7dea23-0fbd-4613-c31c-800704db4212",
        "colab": {
          "base_uri": "https://localhost:8080/",
          "height": 204
        }
      },
      "source": [
        "model = SGDClassifier(max_iter = 200, tol=1e-3,penalty = \"elasticnet\")\n",
        "model.fit(X_train[:,[0,2,5,6]],y_train)\n",
        "y_pred = model.predict(X_test[:,[0,2,5,6]])\n",
        "print(confusion_matrix(y_test,y_pred))\n",
        "print(classification_report(y_test,y_pred))"
      ],
      "execution_count": 31,
      "outputs": [
        {
          "output_type": "stream",
          "text": [
            "[[184   7]\n",
            " [ 45   7]]\n",
            "              precision    recall  f1-score   support\n",
            "\n",
            "           0       0.80      0.96      0.88       191\n",
            "           1       0.50      0.13      0.21        52\n",
            "\n",
            "    accuracy                           0.79       243\n",
            "   macro avg       0.65      0.55      0.54       243\n",
            "weighted avg       0.74      0.79      0.73       243\n",
            "\n"
          ],
          "name": "stdout"
        }
      ]
    },
    {
      "cell_type": "code",
      "metadata": {
        "id": "H4bg8w82fzax",
        "colab_type": "code",
        "colab": {}
      },
      "source": [
        ""
      ],
      "execution_count": 0,
      "outputs": []
    }
  ]
}